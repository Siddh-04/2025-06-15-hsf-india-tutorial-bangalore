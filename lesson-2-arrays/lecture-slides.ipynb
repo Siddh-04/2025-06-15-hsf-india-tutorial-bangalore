{
 "cells": [
  {
   "cell_type": "markdown",
   "id": "483fbd02-7472-4a1a-92c5-c0e47e70cd9e",
   "metadata": {
    "editable": true,
    "slideshow": {
     "slide_type": "slide"
    },
    "tags": []
   },
   "source": [
    "# Lesson 2: Array-oriented programming"
   ]
  },
  {
   "cell_type": "markdown",
   "id": "73aaa871-6e85-43d9-8d31-41f46b6be510",
   "metadata": {
    "editable": true,
    "slideshow": {
     "slide_type": "slide"
    },
    "tags": []
   },
   "source": [
    "## Programming paradigms"
   ]
  },
  {
   "cell_type": "markdown",
   "id": "3e8e66c2-4ecb-4af0-8f8c-5d241a70b983",
   "metadata": {
    "editable": true,
    "slideshow": {
     "slide_type": ""
    },
    "tags": []
   },
   "source": [
    "<br>"
   ]
  },
  {
   "cell_type": "markdown",
   "id": "b7469b25-e77f-4c60-8acc-a8c7d5cc979e",
   "metadata": {
    "editable": true,
    "slideshow": {
     "slide_type": ""
    },
    "tags": []
   },
   "source": [
    "Programming paradigms, such as \"imperative,\" \"object-oriented,\" and \"functional,\" are general styles of programming."
   ]
  },
  {
   "cell_type": "markdown",
   "id": "d6ef7338-8266-4017-b077-6444684a7a18",
   "metadata": {
    "editable": true,
    "slideshow": {
     "slide_type": ""
    },
    "tags": []
   },
   "source": [
    "<br><br>"
   ]
  },
  {
   "cell_type": "markdown",
   "id": "ac0f8a44-ec7f-4aab-9fef-305ab2cff209",
   "metadata": {
    "editable": true,
    "slideshow": {
     "slide_type": "fragment"
    },
    "tags": []
   },
   "source": [
    "Some programming languages were designed to enable or encourage some paradigms over others. For example, C++ enabled object-oriented programming in C."
   ]
  },
  {
   "cell_type": "markdown",
   "id": "502856d7-cee6-4172-a6c0-b5fd95b6e08d",
   "metadata": {
    "editable": true,
    "slideshow": {
     "slide_type": ""
    },
    "tags": []
   },
   "source": [
    "<br><br>"
   ]
  },
  {
   "cell_type": "markdown",
   "id": "69b2d081-7ed6-4650-97ab-d6810f41a742",
   "metadata": {
    "editable": true,
    "slideshow": {
     "slide_type": "fragment"
    },
    "tags": []
   },
   "source": [
    "In array-oriented programming, the primary data type is an array, and most functions perform one operation on all the elements of the array."
   ]
  },
  {
   "cell_type": "markdown",
   "id": "6c172fa6-f48e-4878-abc5-c95bee93b1d5",
   "metadata": {
    "editable": true,
    "slideshow": {
     "slide_type": ""
    },
    "tags": []
   },
   "source": [
    "<br><br>"
   ]
  },
  {
   "cell_type": "code",
   "execution_count": 1,
   "id": "07b1e19c-4ca8-40e0-bbee-917b2fb256fa",
   "metadata": {
    "editable": true,
    "slideshow": {
     "slide_type": "fragment"
    },
    "tags": []
   },
   "outputs": [],
   "source": [
    "import numpy as np"
   ]
  },
  {
   "cell_type": "markdown",
   "id": "d6a8a4dd-db96-486c-b7fc-507a0b4acdf7",
   "metadata": {
    "editable": true,
    "slideshow": {
     "slide_type": "slide"
    },
    "tags": []
   },
   "source": [
    "This is _imperative_ programming:"
   ]
  },
  {
   "cell_type": "markdown",
   "id": "4feaae42-f35e-4258-a05a-13feec09252a",
   "metadata": {
    "editable": true,
    "slideshow": {
     "slide_type": ""
    },
    "tags": []
   },
   "source": [
    "<br>"
   ]
  },
  {
   "cell_type": "code",
   "execution_count": 2,
   "id": "3801eb8a-2641-4f75-997d-5e5611b848e6",
   "metadata": {
    "editable": true,
    "slideshow": {
     "slide_type": ""
    },
    "tags": []
   },
   "outputs": [
    {
     "data": {
      "text/plain": [
       "array([ 1,  4,  9, 16, 25, 36, 49, 64, 81])"
      ]
     },
     "execution_count": 2,
     "metadata": {},
     "output_type": "execute_result"
    }
   ],
   "source": [
    "input_data = np.array([1, 2, 3, 4, 5, 6, 7, 8, 9])\n",
    "output_data = np.array([0, 0, 0, 0, 0, 0, 0, 0, 0])\n",
    "\n",
    "for i in range(len(input_data)):             # explicitly specifies an order of execution\n",
    "    output_data[i] = input_data[i]**2        # user says what happens to each element\n",
    "\n",
    "output_data"
   ]
  },
  {
   "cell_type": "markdown",
   "id": "b1791585-891b-4045-ac55-65eb2bf17c96",
   "metadata": {
    "editable": true,
    "slideshow": {
     "slide_type": "slide"
    },
    "tags": []
   },
   "source": [
    "This is _functional_ programming:"
   ]
  },
  {
   "cell_type": "markdown",
   "id": "850d27b6-4b39-465b-a63f-0dac92791474",
   "metadata": {
    "editable": true,
    "slideshow": {
     "slide_type": ""
    },
    "tags": []
   },
   "source": [
    "<br>"
   ]
  },
  {
   "cell_type": "code",
   "execution_count": 3,
   "id": "3d38594a-64e1-408c-b862-edd6643f5dd3",
   "metadata": {
    "editable": true,
    "slideshow": {
     "slide_type": ""
    },
    "tags": []
   },
   "outputs": [
    {
     "data": {
      "text/plain": [
       "array([ 1,  4,  9, 16, 25, 36, 49, 64, 81])"
      ]
     },
     "execution_count": 3,
     "metadata": {},
     "output_type": "execute_result"
    }
   ],
   "source": [
    "input_data = np.array([1, 2, 3, 4, 5, 6, 7, 8, 9])\n",
    "\n",
    "output_data = np.fromiter(\n",
    "    map(lambda x: x**2, input_data), int     # still focused on the individual element \"x\"\n",
    ")\n",
    "\n",
    "output_data"
   ]
  },
  {
   "cell_type": "markdown",
   "id": "ba44d80b-d0f0-4802-b1d7-175c1e571733",
   "metadata": {
    "editable": true,
    "slideshow": {
     "slide_type": "slide"
    },
    "tags": []
   },
   "source": [
    "And this is _array-oriented_ programming:"
   ]
  },
  {
   "cell_type": "markdown",
   "id": "f7eb5048-fbcd-412a-8df0-3fce877d2ff4",
   "metadata": {
    "editable": true,
    "slideshow": {
     "slide_type": ""
    },
    "tags": []
   },
   "source": [
    "<br>"
   ]
  },
  {
   "cell_type": "code",
   "execution_count": 4,
   "id": "34bc1777-f0b4-4134-a5d4-02443ffb25b6",
   "metadata": {
    "editable": true,
    "slideshow": {
     "slide_type": ""
    },
    "tags": []
   },
   "outputs": [
    {
     "data": {
      "text/plain": [
       "array([ 1,  4,  9, 16, 25, 36, 49, 64, 81])"
      ]
     },
     "execution_count": 4,
     "metadata": {},
     "output_type": "execute_result"
    }
   ],
   "source": [
    "input_data = np.array([1, 2, 3, 4, 5, 6, 7, 8, 9])\n",
    "\n",
    "output_data = input_data**2                  # implicit indexes, no individual elements\n",
    "\n",
    "output_data"
   ]
  },
  {
   "cell_type": "markdown",
   "id": "7bdac34b-146b-4d40-9844-3adc0a4a0130",
   "metadata": {
    "editable": true,
    "slideshow": {
     "slide_type": "slide"
    },
    "tags": []
   },
   "source": [
    "Programming paradigms are not sharply defined. A single language and even a single codebase can use several paradigms."
   ]
  },
  {
   "cell_type": "markdown",
   "id": "8173297b-b38f-473e-9aaf-6596430f4fd7",
   "metadata": {
    "editable": true,
    "slideshow": {
     "slide_type": ""
    },
    "tags": []
   },
   "source": [
    "<br>"
   ]
  },
  {
   "cell_type": "markdown",
   "id": "c39e239c-88ee-4658-a1a8-0c5d86703813",
   "metadata": {
    "editable": true,
    "slideshow": {
     "slide_type": "fragment"
    },
    "tags": []
   },
   "source": [
    "They are _styles_, and they're useful because they each bring different programming concepts into the foreground:\n",
    "\n",
    "| Paradigm | Emphasizes |\n",
    "|:-:|:-:|\n",
    "| imperative/procedural | low-level algorithms |\n",
    "| object-oriented | large-scale program structure |\n",
    "| actor-based | temporal locality |\n",
    "| literate | human instruction |\n",
    "| event-driven | cause-and-effect |\n",
    "| declarative | properties of desired result |\n",
    "| symbolic | formula transformations |\n",
    "| functional | data transformations |\n",
    "| array-oriented | data distributions |"
   ]
  },
  {
   "cell_type": "markdown",
   "id": "8b0c10ad-44cf-45b7-a5a3-76f3b13e66a1",
   "metadata": {
    "editable": true,
    "slideshow": {
     "slide_type": "slide"
    },
    "tags": []
   },
   "source": [
    "## What is array-oriented programming good for?"
   ]
  },
  {
   "cell_type": "markdown",
   "id": "9c0818ea-53f4-4ce6-b733-e9ef7f35fb89",
   "metadata": {
    "editable": true,
    "slideshow": {
     "slide_type": ""
    },
    "tags": []
   },
   "source": [
    "<br>"
   ]
  },
  {
   "cell_type": "markdown",
   "id": "5f3c4c4f-0ebb-43df-b61d-b7f61e626975",
   "metadata": {
    "editable": true,
    "slideshow": {
     "slide_type": ""
    },
    "tags": []
   },
   "source": [
    "All of the languages/major libraries that emphasize array-oriented programming (that I know of):"
   ]
  },
  {
   "cell_type": "markdown",
   "id": "66acebf1-a410-43b0-bcac-8bcdd8d15a69",
   "metadata": {
    "editable": true,
    "slideshow": {
     "slide_type": ""
    },
    "tags": []
   },
   "source": [
    "<br>"
   ]
  },
  {
   "cell_type": "markdown",
   "id": "98ccf2a1-8045-416c-bc00-da0b73038640",
   "metadata": {
    "tags": []
   },
   "source": [
    "<img src=\"../img/apl-timeline.svg\" width=\"100%\">"
   ]
  },
  {
   "cell_type": "markdown",
   "id": "26924237-c089-41cf-b41f-c2675571c3b1",
   "metadata": {
    "editable": true,
    "slideshow": {
     "slide_type": "slide"
    },
    "tags": []
   },
   "source": [
    "Almost all of them are intended as _interactive data-analysis_ environments.\n",
    "\n",
    "(Fortran-90 is the only one that is not interactive.)"
   ]
  },
  {
   "cell_type": "markdown",
   "id": "567418f4-b6b2-406d-9e7a-b660c676fb41",
   "metadata": {
    "editable": true,
    "slideshow": {
     "slide_type": ""
    },
    "tags": []
   },
   "source": [
    "<br><br>"
   ]
  },
  {
   "cell_type": "markdown",
   "id": "5da5d0aa-f2cc-4c44-9a71-afc6cad6c48d",
   "metadata": {
    "editable": true,
    "slideshow": {
     "slide_type": "fragment"
    },
    "tags": []
   },
   "source": [
    "Almost all feature:\n",
    "\n",
    "* interactive REPL (read-evaluate-print loop)\n",
    "* concise notation\n",
    "* unabashedly mathematical"
   ]
  },
  {
   "cell_type": "markdown",
   "id": "66dba759-4ec7-417c-ad22-3cb7b8c25bd9",
   "metadata": {
    "editable": true,
    "slideshow": {
     "slide_type": "slide"
    },
    "tags": []
   },
   "source": [
    "### The grandfather: APL"
   ]
  },
  {
   "cell_type": "markdown",
   "id": "de4cc366-919a-4d47-9c59-01cd1ab64882",
   "metadata": {
    "editable": true,
    "slideshow": {
     "slide_type": ""
    },
    "tags": []
   },
   "source": [
    "<table><tr>\n",
    "    <td width=\"25%\"><img src=\"../img/apl-book.png\" width=\"100%\"></td>\n",
    "    <td width=\"50%\"><img src=\"../img/apl-keyboard.jpg\" width=\"100%\"></td>\n",
    "</tr></table>"
   ]
  },
  {
   "cell_type": "code",
   "execution_count": 6,
   "id": "d0485627-e7eb-494a-9641-3c01dfda562f",
   "metadata": {
    "editable": true,
    "slideshow": {
     "slide_type": "slide"
    },
    "tags": []
   },
   "outputs": [
    {
     "data": {
      "text/html": [
       "<div style=\"overflow: hidden;\"><iframe src=\"https://tryapl.org/\" width=\"100%\" height=\"380\" scrolling=\"no\" style=\"border: none;\"></div>\n"
      ],
      "text/plain": [
       "<IPython.core.display.HTML object>"
      ]
     },
     "metadata": {},
     "output_type": "display_data"
    }
   ],
   "source": [
    "%%html\n",
    "<div style=\"overflow: hidden;\"><iframe src=\"https://tryapl.org/\" width=\"100%\" height=\"380\" scrolling=\"no\" style=\"border: none;\"></div>"
   ]
  },
  {
   "cell_type": "markdown",
   "id": "d59cdc86-51e6-43d0-aa8f-4dbd695f86e8",
   "metadata": {
    "editable": true,
    "slideshow": {
     "slide_type": "slide"
    },
    "tags": []
   },
   "source": [
    "**Quizlet:** Translate the following NumPy operations into APL."
   ]
  },
  {
   "cell_type": "markdown",
   "id": "cd73bc3d-93af-4f44-9da3-397ca3947851",
   "metadata": {
    "editable": true,
    "slideshow": {
     "slide_type": ""
    },
    "tags": []
   },
   "source": [
    "<br>"
   ]
  },
  {
   "cell_type": "code",
   "execution_count": 7,
   "id": "c4c4984c-991f-4be9-a06c-6f6c4b4b5768",
   "metadata": {
    "tags": []
   },
   "outputs": [
    {
     "data": {
      "text/plain": [
       "array([0, 1, 2, 3, 4, 5, 6, 7, 8, 9])"
      ]
     },
     "execution_count": 7,
     "metadata": {},
     "output_type": "execute_result"
    }
   ],
   "source": [
    "np.arange(10)"
   ]
  },
  {
   "cell_type": "markdown",
   "id": "9c919399-0036-42da-bb28-e9968c119ccb",
   "metadata": {},
   "source": [
    "<br>"
   ]
  },
  {
   "cell_type": "code",
   "execution_count": 8,
   "id": "6b889f0f-c1a9-47cc-8dba-1c60282c79f1",
   "metadata": {
    "tags": []
   },
   "outputs": [
    {
     "data": {
      "text/plain": [
       "np.int64(45)"
      ]
     },
     "execution_count": 8,
     "metadata": {},
     "output_type": "execute_result"
    }
   ],
   "source": [
    "np.sum(np.arange(10))"
   ]
  },
  {
   "cell_type": "markdown",
   "id": "077e679c-d4eb-4b30-9f7d-bc11c61558ca",
   "metadata": {},
   "source": [
    "<br>"
   ]
  },
  {
   "cell_type": "code",
   "execution_count": 9,
   "id": "59d23cef-f732-4c59-b264-871c8c62b161",
   "metadata": {
    "editable": true,
    "slideshow": {
     "slide_type": ""
    },
    "tags": []
   },
   "outputs": [
    {
     "data": {
      "text/plain": [
       "array([ 0,  1,  3,  6, 10, 15, 21, 28, 36, 45])"
      ]
     },
     "execution_count": 9,
     "metadata": {},
     "output_type": "execute_result"
    }
   ],
   "source": [
    "np.cumsum(np.arange(10))"
   ]
  },
  {
   "cell_type": "markdown",
   "id": "6a129b63-76e7-4965-9674-305510f77c3e",
   "metadata": {
    "editable": true,
    "slideshow": {
     "slide_type": "slide"
    },
    "tags": []
   },
   "source": [
    "**Answers:**\n",
    "\n",
    "```apl\n",
    "      (⍳10) - 1\n",
    "0 1 2 3 4 5 6 7 8 9\n",
    "\n",
    "      +/(⍳10) - 1\n",
    "45\n",
    "\n",
    "      +\\(⍳10) - 1\n",
    "0 1 3 6 10 15 21 28 36 45\n",
    "```"
   ]
  },
  {
   "cell_type": "markdown",
   "id": "7b0115dd-ff4f-48d0-9899-9efdf4c38bdd",
   "metadata": {
    "editable": true,
    "slideshow": {
     "slide_type": "fragment"
    },
    "tags": []
   },
   "source": [
    "<br>"
   ]
  },
  {
   "cell_type": "markdown",
   "id": "5fab0ed4-a6b5-4342-8e24-bbb2ae578dec",
   "metadata": {
    "editable": true,
    "slideshow": {
     "slide_type": ""
    },
    "tags": []
   },
   "source": [
    "APL was too concise! Modern array-oriented programming is looking for the right balance.\n",
    "\n",
    "<center>\n",
    "<img src=\"../img/tshirt.jpg\" width=\"20%\">\n",
    "</center>"
   ]
  },
  {
   "cell_type": "markdown",
   "id": "70c8226e-2008-44ed-921e-9ffa3a1539ae",
   "metadata": {
    "editable": true,
    "slideshow": {
     "slide_type": "slide"
    },
    "tags": []
   },
   "source": [
    "### Distributions and interactivity"
   ]
  },
  {
   "cell_type": "markdown",
   "id": "f74d19c5-9ba3-4c1c-b404-a50df348af00",
   "metadata": {
    "editable": true,
    "slideshow": {
     "slide_type": ""
    },
    "tags": []
   },
   "source": [
    "Array-oriented languages bring data _distributions_ to the foreground."
   ]
  },
  {
   "cell_type": "markdown",
   "id": "b7201932-ca10-400c-9e69-f81b18c56fcb",
   "metadata": {
    "editable": true,
    "slideshow": {
     "slide_type": ""
    },
    "tags": []
   },
   "source": [
    "<br>"
   ]
  },
  {
   "cell_type": "code",
   "execution_count": 10,
   "id": "4d7248a9-752a-47fa-b7bd-9936efdea633",
   "metadata": {
    "editable": true,
    "slideshow": {
     "slide_type": ""
    },
    "tags": []
   },
   "outputs": [],
   "source": [
    "from hist import Hist  # histogram library"
   ]
  },
  {
   "cell_type": "markdown",
   "id": "bfede4a3-6686-4fb3-aa53-8513690c7a60",
   "metadata": {
    "editable": true,
    "slideshow": {
     "slide_type": "fragment"
    },
    "tags": []
   },
   "source": [
    "<br>"
   ]
  },
  {
   "cell_type": "markdown",
   "id": "2b0bae8c-a8f5-4fc3-985c-7fa320392cbb",
   "metadata": {
    "editable": true,
    "slideshow": {
     "slide_type": ""
    },
    "tags": []
   },
   "source": [
    "Given a large dataset..."
   ]
  },
  {
   "cell_type": "code",
   "execution_count": 11,
   "id": "6f86e93d-324c-40de-9f02-078a861c011b",
   "metadata": {
    "tags": []
   },
   "outputs": [],
   "source": [
    "dataset = np.random.normal(0, 1, 1000000)  # one MILLION data points"
   ]
  },
  {
   "cell_type": "markdown",
   "id": "08a62ce4-5ec6-46e2-ae9b-d64b61cfd90d",
   "metadata": {
    "editable": true,
    "slideshow": {
     "slide_type": "fragment"
    },
    "tags": []
   },
   "source": [
    "<br>"
   ]
  },
  {
   "cell_type": "markdown",
   "id": "e848b47d-0baa-4141-94be-881d66141d7f",
   "metadata": {
    "editable": true,
    "slideshow": {
     "slide_type": ""
    },
    "tags": []
   },
   "source": [
    "How are the data _distributed_?"
   ]
  },
  {
   "cell_type": "code",
   "execution_count": 12,
   "id": "5dfe4f17-4cef-4846-be47-9bbe479edbe2",
   "metadata": {
    "tags": []
   },
   "outputs": [
    {
     "data": {
      "text/html": [
       "<html>\n",
       "<div style=\"display:flex; align-items:center;\">\n",
       "<div style=\"width:290px;\">\n",
       "<svg xmlns=\"http://www.w3.org/2000/svg\" viewBox=\"-10 -105 270 120\">\n",
       "<line x1=\"-5\" y1=\"0\" x2=\"255\" y2=\"0\" style=\"fill:none;stroke-width:2;stroke:currentColor\"/>\n",
       "<text text-anchor=\"middle\" x=\"0\" y=\"15\" style=\"fill:currentColor;\">\n",
       "-5\n",
       "</text>\n",
       "<text text-anchor=\"middle\" x=\"250\" y=\"15\" style=\"fill:currentColor;\">\n",
       "5\n",
       "</text>\n",
       "<text text-anchor=\"middle\" x=\"125.0\" y=\"15\" style=\"fill:currentColor;\">\n",
       "Axis 0\n",
       "</text>\n",
       "<polyline points=\"  0,0   0,-0 2.5,-0 2.5,-0   5,-0   5,-0.0025 7.5,-0.0025 7.5,-0.0025  10,-0.0025  10,-0.00499 12.5,-0.00499 12.5,-0.00499  15,-0.00499  15,-0.00499 17.5,-0.00499 17.5,-0.015  20,-0.015  20,-0.00749 22.5,-0.00749 22.5,-0.0449  25,-0.0449  25,-0.025 27.5,-0.025 27.5,-0.0749  30,-0.0749  30,-0.0849 32.5,-0.0849 32.5,-0.122  35,-0.122  35,-0.202 37.5,-0.202 37.5,-0.232  40,-0.232  40,-0.337 42.5,-0.337 42.5,-0.519  45,-0.519  45,-0.674 47.5,-0.674 47.5,-0.963  50,-0.963  50,-1.28 52.5,-1.28 52.5,-1.67  55,-1.67  55,-2.21 57.5,-2.21 57.5,-2.95  60,-2.95  60,-3.75 62.5,-3.75 62.5,-4.99  65,-4.99  65,-6.26 67.5,-6.26 67.5,-8.08  70,-8.08  70,-9.77 72.5,-9.77 72.5,-12.3  75,-12.3  75,-15.1 77.5,-15.1 77.5,-17.8  80,-17.8  80,-21.7 82.5,-21.7 82.5,-25.4  85,-25.4  85,-30 87.5,-30 87.5,-34.9  90,-34.9  90,-39.7 92.5,-39.7 92.5,-46.2  95,-46.2  95,-51.5 97.5,-51.5 97.5,-57.4 100,-57.4 100,-63.3 102.5,-63.3 102.5,-69.5 105,-69.5 105,-75 107.5,-75 107.5,-81 110,-81 110,-86.1 112.5,-86.1 112.5,-89.8 115,-89.8 115,-93.2 117.5,-93.2 117.5,-95.7 120,-95.7 120,-97.7 122.5,-97.7 122.5,-98.8 125,-98.8 125,-100 127.5,-100 127.5,-98.7 130,-98.7 130,-96.4 132.5,-96.4 132.5,-93.6 135,-93.6 135,-89.9 137.5,-89.9 137.5,-85.5 140,-85.5 140,-81.2 142.5,-81.2 142.5,-75.2 145,-75.2 145,-69.5 147.5,-69.5 147.5,-63.3 150,-63.3 150,-57.4 152.5,-57.4 152.5,-50.9 155,-50.9 155,-45.8 157.5,-45.8 157.5,-40.1 160,-40.1 160,-34.6 162.5,-34.6 162.5,-29.8 165,-29.8 165,-25.5 167.5,-25.5 167.5,-21.5 170,-21.5 170,-18 172.5,-18 172.5,-14.8 175,-14.8 175,-12.3 177.5,-12.3 177.5,-9.89 180,-9.89 180,-8.1 182.5,-8.1 182.5,-6.62 185,-6.62 185,-5.03 187.5,-5.03 187.5,-3.81 190,-3.81 190,-2.96 192.5,-2.96 192.5,-2.37 195,-2.37 195,-1.77 197.5,-1.77 197.5,-1.32 200,-1.32 200,-0.971 202.5,-0.971 202.5,-0.621 205,-0.621 205,-0.472 207.5,-0.472 207.5,-0.392 210,-0.392 210,-0.212 212.5,-0.212 212.5,-0.197 215,-0.197 215,-0.107 217.5,-0.107 217.5,-0.0774 220,-0.0774 220,-0.0749 222.5,-0.0749 222.5,-0.0424 225,-0.0424 225,-0.0349 227.5,-0.0349 227.5,-0.015 230,-0.015 230,-0.00499 232.5,-0.00499 232.5,-0.015 235,-0.015 235,-0 237.5,-0 237.5,-0.0025 240,-0.0025 240,-0.0025 242.5,-0.0025 242.5,-0 245,-0 245,-0 247.5,-0 247.5,-0 250,-0 250,0\" style=\"fill:none; stroke:currentColor;\"/>\n",
       "</svg>\n",
       "</div>\n",
       "<div style=\"flex=grow:1;\">\n",
       "Regular(100, -5, 5, label='Axis 0')<br/>\n",
       "<hr style=\"margin-top:.2em; margin-bottom:.2em;\"/>\n",
       "Double() Σ=999999.0 <em>(1000000.0 with flow)</em>\n",
       "\n",
       "</div>\n",
       "</div>\n",
       "</html>"
      ],
      "text/plain": [
       "Hist(Regular(100, -5, 5, label='Axis 0'), storage=Double()) # Sum: 999999.0 (1000000.0 with flow)"
      ]
     },
     "execution_count": 12,
     "metadata": {},
     "output_type": "execute_result"
    }
   ],
   "source": [
    "Hist.new.Reg(100, -5, 5).Double().fill(dataset)"
   ]
  },
  {
   "cell_type": "markdown",
   "id": "5d90d8b6-b03a-4cd5-8a10-7255329bb3f9",
   "metadata": {
    "editable": true,
    "slideshow": {
     "slide_type": "slide"
    },
    "tags": []
   },
   "source": [
    "What happens if we apply a function to _all values in the distribution_?"
   ]
  },
  {
   "cell_type": "code",
   "execution_count": 13,
   "id": "ce4b9fb2-a311-4755-b54c-ac76b63a1865",
   "metadata": {
    "tags": []
   },
   "outputs": [],
   "source": [
    "dataset2 = dataset**2"
   ]
  },
  {
   "cell_type": "markdown",
   "id": "c3c27586-aa38-4b3e-a5a1-473baee196a3",
   "metadata": {
    "editable": true,
    "slideshow": {
     "slide_type": ""
    },
    "tags": []
   },
   "source": [
    "<br>"
   ]
  },
  {
   "cell_type": "code",
   "execution_count": 17,
   "id": "159a85b2-bad8-469b-9cca-2aa6402e3973",
   "metadata": {
    "tags": []
   },
   "outputs": [
    {
     "data": {
      "text/html": [
       "<html>\n",
       "<div style=\"display:flex; align-items:center;\">\n",
       "<div style=\"width:290px;\">\n",
       "<svg xmlns=\"http://www.w3.org/2000/svg\" viewBox=\"-10 -105 270 120\">\n",
       "<line x1=\"-5\" y1=\"0\" x2=\"255\" y2=\"0\" style=\"fill:none;stroke-width:2;stroke:currentColor\"/>\n",
       "<text text-anchor=\"middle\" x=\"0\" y=\"15\" style=\"fill:currentColor;\">\n",
       "-1\n",
       "</text>\n",
       "<text text-anchor=\"middle\" x=\"250\" y=\"15\" style=\"fill:currentColor;\">\n",
       "10\n",
       "</text>\n",
       "<text text-anchor=\"middle\" x=\"125.0\" y=\"15\" style=\"fill:currentColor;\">\n",
       "Axis 0\n",
       "</text>\n",
       "<polyline points=\"  0,0   0,-0 2.5,-0 2.5,-0   5,-0   5,-0 7.5,-0 7.5,-0  10,-0  10,-0 12.5,-0 12.5,-0  15,-0  15,-0 17.5,-0 17.5,-0  20,-0  20,-0 22.5,-0 22.5,-100  25,-100  25,-42.4 27.5,-42.4 27.5,-30.4  30,-30.4  30,-24.2 32.5,-24.2 32.5,-20.1  35,-20.1  35,-17.1 37.5,-17.1 37.5,-14.9  40,-14.9  40,-13.2 42.5,-13.2 42.5,-11.6  45,-11.6  45,-10.4 47.5,-10.4 47.5,-9.31  50,-9.31  50,-8.4 52.5,-8.4 52.5,-7.69  55,-7.69  55,-7.02 57.5,-7.02 57.5,-6.47  60,-6.47  60,-5.86 62.5,-5.86 62.5,-5.28  65,-5.28  65,-4.93 67.5,-4.93 67.5,-4.49  70,-4.49  70,-4.18 72.5,-4.18 72.5,-3.83  75,-3.83  75,-3.59 77.5,-3.59 77.5,-3.29  80,-3.29  80,-3.04 82.5,-3.04 82.5,-2.82  85,-2.82  85,-2.58 87.5,-2.58 87.5,-2.5  90,-2.5  90,-2.24 92.5,-2.24 92.5,-2.1  95,-2.1  95,-1.96 97.5,-1.96 97.5,-1.8 100,-1.8 100,-1.7 102.5,-1.7 102.5,-1.56 105,-1.56 105,-1.5 107.5,-1.5 107.5,-1.38 110,-1.38 110,-1.28 112.5,-1.28 112.5,-1.19 115,-1.19 115,-1.11 117.5,-1.11 117.5,-1.07 120,-1.07 120,-0.984 122.5,-0.984 122.5,-0.915 125,-0.915 125,-0.811 127.5,-0.811 127.5,-0.818 130,-0.818 130,-0.75 132.5,-0.75 132.5,-0.684 135,-0.684 135,-0.655 137.5,-0.655 137.5,-0.618 140,-0.618 140,-0.608 142.5,-0.608 142.5,-0.564 145,-0.564 145,-0.536 147.5,-0.536 147.5,-0.473 150,-0.473 150,-0.426 152.5,-0.426 152.5,-0.422 155,-0.422 155,-0.396 157.5,-0.396 157.5,-0.368 160,-0.368 160,-0.344 162.5,-0.344 162.5,-0.318 165,-0.318 165,-0.297 167.5,-0.297 167.5,-0.283 170,-0.283 170,-0.259 172.5,-0.259 172.5,-0.236 175,-0.236 175,-0.23 177.5,-0.23 177.5,-0.222 180,-0.222 180,-0.225 182.5,-0.225 182.5,-0.179 185,-0.179 185,-0.176 187.5,-0.176 187.5,-0.164 190,-0.164 190,-0.162 192.5,-0.162 192.5,-0.148 195,-0.148 195,-0.144 197.5,-0.144 197.5,-0.128 200,-0.128 200,-0.127 202.5,-0.127 202.5,-0.115 205,-0.115 205,-0.0998 207.5,-0.0998 207.5,-0.112 210,-0.112 210,-0.101 212.5,-0.101 212.5,-0.0893 215,-0.0893 215,-0.0764 217.5,-0.0764 217.5,-0.0792 220,-0.0792 220,-0.0796 222.5,-0.0796 222.5,-0.082 225,-0.082 225,-0.0707 227.5,-0.0707 227.5,-0.0562 230,-0.0562 230,-0.057 232.5,-0.057 232.5,-0.059 235,-0.059 235,-0.0594 237.5,-0.0594 237.5,-0.0513 240,-0.0513 240,-0.0461 242.5,-0.0461 242.5,-0.0396 245,-0.0396 245,-0.0307 247.5,-0.0307 247.5,-0.0331 250,-0.0331 250,0\" style=\"fill:none; stroke:currentColor;\"/>\n",
       "</svg>\n",
       "</div>\n",
       "<div style=\"flex=grow:1;\">\n",
       "Regular(100, -1, 10, label='Axis 0')<br/>\n",
       "<hr style=\"margin-top:.2em; margin-bottom:.2em;\"/>\n",
       "Double() Σ=998461.0 <em>(1000000.0 with flow)</em>\n",
       "\n",
       "</div>\n",
       "</div>\n",
       "</html>"
      ],
      "text/plain": [
       "Hist(Regular(100, -1, 10, label='Axis 0'), storage=Double()) # Sum: 998461.0 (1000000.0 with flow)"
      ]
     },
     "execution_count": 17,
     "metadata": {},
     "output_type": "execute_result"
    }
   ],
   "source": [
    "Hist.new.Reg(100, -1, 10).Double().fill(dataset2)"
   ]
  },
  {
   "cell_type": "markdown",
   "id": "66443d68-ec86-4223-8699-15219bf25412",
   "metadata": {
    "editable": true,
    "slideshow": {
     "slide_type": "slide"
    },
    "tags": []
   },
   "source": [
    "Can anyone guess what this distribution will look like?"
   ]
  },
  {
   "cell_type": "code",
   "execution_count": 19,
   "id": "1e294199-d310-4be1-a777-716d8511c574",
   "metadata": {
    "tags": []
   },
   "outputs": [],
   "source": [
    "dataset3 = np.sin(1/dataset2)"
   ]
  },
  {
   "cell_type": "markdown",
   "id": "ddbf0d8d-c9ce-460a-b8f9-6bc4fbf847fa",
   "metadata": {
    "editable": true,
    "slideshow": {
     "slide_type": ""
    },
    "tags": []
   },
   "source": [
    "<br>"
   ]
  },
  {
   "cell_type": "markdown",
   "id": "22f95ba9-1006-4cf8-9bd2-b9ef3defb218",
   "metadata": {
    "editable": true,
    "slideshow": {
     "slide_type": ""
    },
    "tags": []
   },
   "source": [
    "(I can't.)"
   ]
  },
  {
   "cell_type": "code",
   "execution_count": 20,
   "id": "97563702-b988-42bc-88b4-3e11ba65fda8",
   "metadata": {
    "tags": []
   },
   "outputs": [
    {
     "data": {
      "text/html": [
       "<html>\n",
       "<div style=\"display:flex; align-items:center;\">\n",
       "<div style=\"width:290px;\">\n",
       "<svg xmlns=\"http://www.w3.org/2000/svg\" viewBox=\"-10 -105 270 120\">\n",
       "<line x1=\"-5\" y1=\"0\" x2=\"255\" y2=\"0\" style=\"fill:none;stroke-width:2;stroke:currentColor\"/>\n",
       "<text text-anchor=\"middle\" x=\"0\" y=\"15\" style=\"fill:currentColor;\">\n",
       "-1\n",
       "</text>\n",
       "<text text-anchor=\"middle\" x=\"250\" y=\"15\" style=\"fill:currentColor;\">\n",
       "1\n",
       "</text>\n",
       "<text text-anchor=\"middle\" x=\"125.0\" y=\"15\" style=\"fill:currentColor;\">\n",
       "Axis 0\n",
       "</text>\n",
       "<polyline points=\"  0,0   0,-38.9 2.5,-38.9 2.5,-15.9   5,-15.9   5,-12.6 7.5,-12.6 7.5,-10.8  10,-10.8  10,-9.29 12.5,-9.29 12.5,-8.5  15,-8.5  15,-8.01 17.5,-8.01 17.5,-7.43  20,-7.43  20,-7.07 22.5,-7.07 22.5,-6.69  25,-6.69  25,-6.45 27.5,-6.45 27.5,-6.39  30,-6.39  30,-5.87 32.5,-5.87 32.5,-5.88  35,-5.88  35,-5.61 37.5,-5.61 37.5,-5.47  40,-5.47  40,-5.37 42.5,-5.37 42.5,-5.26  45,-5.26  45,-5.26 47.5,-5.26 47.5,-5.03  50,-5.03  50,-4.94 52.5,-4.94 52.5,-4.8  55,-4.8  55,-4.82 57.5,-4.82 57.5,-4.59  60,-4.59  60,-4.69 62.5,-4.69 62.5,-4.54  65,-4.54  65,-4.52 67.5,-4.52 67.5,-4.39  70,-4.39  70,-4.6 72.5,-4.6 72.5,-4.42  75,-4.42  75,-4.49 77.5,-4.49 77.5,-4.32  80,-4.32  80,-4.33 82.5,-4.33 82.5,-4.29  85,-4.29  85,-4.37 87.5,-4.37 87.5,-4.33  90,-4.33  90,-4.11 92.5,-4.11 92.5,-4.36  95,-4.36  95,-4.31 97.5,-4.31 97.5,-4.27 100,-4.27 100,-4.22 102.5,-4.22 102.5,-4.16 105,-4.16 105,-4.17 107.5,-4.17 107.5,-4.17 110,-4.17 110,-4.17 112.5,-4.17 112.5,-4.12 115,-4.12 115,-4.29 117.5,-4.29 117.5,-4.15 120,-4.15 120,-4.17 122.5,-4.17 122.5,-4.21 125,-4.21 125,-4.25 127.5,-4.25 127.5,-4.31 130,-4.31 130,-4.44 132.5,-4.44 132.5,-4.69 135,-4.69 135,-5.71 137.5,-5.71 137.5,-7.23 140,-7.23 140,-8.85 142.5,-8.85 142.5,-10.3 145,-10.3 145,-12.1 147.5,-12.1 147.5,-13.6 150,-13.6 150,-14.1 152.5,-14.1 152.5,-15.1 155,-15.1 155,-15.5 157.5,-15.5 157.5,-15.9 160,-15.9 160,-16.3 162.5,-16.3 162.5,-16.5 165,-16.5 165,-16.8 167.5,-16.8 167.5,-16.8 170,-16.8 170,-17.1 172.5,-17.1 172.5,-16.9 175,-16.9 175,-16.9 177.5,-16.9 177.5,-16.9 180,-16.9 180,-16.8 182.5,-16.8 182.5,-16.6 185,-16.6 185,-16.8 187.5,-16.8 187.5,-16.8 190,-16.8 190,-16.6 192.5,-16.6 192.5,-16.8 195,-16.8 195,-16.6 197.5,-16.6 197.5,-17 200,-17 200,-16.8 202.5,-16.8 202.5,-17 205,-17 205,-17.2 207.5,-17.2 207.5,-17 210,-17 210,-17.1 212.5,-17.1 212.5,-17.2 215,-17.2 215,-17.9 217.5,-17.9 217.5,-18.1 220,-18.1 220,-18.3 222.5,-18.3 222.5,-18.8 225,-18.8 225,-19.6 227.5,-19.6 227.5,-20.2 230,-20.2 230,-20.6 232.5,-20.6 232.5,-22.3 235,-22.3 235,-23.2 237.5,-23.2 237.5,-25.5 240,-25.5 240,-28.5 242.5,-28.5 242.5,-32.8 245,-32.8 245,-42.4 247.5,-42.4 247.5,-100 250,-100 250,0\" style=\"fill:none; stroke:currentColor;\"/>\n",
       "</svg>\n",
       "</div>\n",
       "<div style=\"flex=grow:1;\">\n",
       "Regular(100, -1, 1, label='Axis 0')<br/>\n",
       "<hr style=\"margin-top:.2em; margin-bottom:.2em;\"/>\n",
       "Double() Σ=1000000.0\n",
       "\n",
       "</div>\n",
       "</div>\n",
       "</html>"
      ],
      "text/plain": [
       "Hist(Regular(100, -1, 1, label='Axis 0'), storage=Double()) # Sum: 1000000.0"
      ]
     },
     "execution_count": 20,
     "metadata": {},
     "output_type": "execute_result"
    }
   ],
   "source": [
    "Hist.new.Reg(100, -1, 1).Double().fill(dataset3)"
   ]
  },
  {
   "cell_type": "markdown",
   "id": "581f2baa-04ec-4b7e-903f-d8af024bfd38",
   "metadata": {
    "editable": true,
    "slideshow": {
     "slide_type": "slide"
    },
    "tags": []
   },
   "source": [
    "**Human readability advantage:**\n",
    "\n",
    "  * Mathematical expressions are concise, more convenient to type interactivity.\n",
    "\n",
    "<br>\n",
    "\n",
    "**Computational advantage:**\n",
    "\n",
    "  * The right _part_ of the computation is accelerated: the loop over all values in the distribution."
   ]
  },
  {
   "cell_type": "markdown",
   "id": "298f9ec3-7daa-4a8d-89b0-de346dc2fde2",
   "metadata": {
    "slideshow": {
     "slide_type": "slide"
    },
    "tags": []
   },
   "source": [
    "## NumPy"
   ]
  },
  {
   "cell_type": "markdown",
   "id": "416fc7a5-9870-41b4-bae0-be0dc52cc448",
   "metadata": {
    "editable": true,
    "slideshow": {
     "slide_type": ""
    },
    "tags": []
   },
   "source": [
    "<center>\n",
    "<img src=\"../img/Numpy_Python_Cheat_Sheet.svg\" width=\"90%\">\n",
    "</center>"
   ]
  },
  {
   "cell_type": "markdown",
   "id": "228fb86d-e0f1-4972-ac2b-f7501e56c109",
   "metadata": {
    "editable": true,
    "slideshow": {
     "slide_type": "slide"
    },
    "tags": []
   },
   "source": [
    "NumPy's version of\n",
    "\n",
    "```apl\n",
    "      10 20 30 + 1 2 3\n",
    "11 22 33\n",
    "```\n",
    "\n",
    "is"
   ]
  },
  {
   "cell_type": "code",
   "execution_count": 21,
   "id": "d0b49dfd-ed26-42a0-8fe3-0a43143c0e95",
   "metadata": {
    "tags": []
   },
   "outputs": [
    {
     "data": {
      "text/plain": [
       "array([11, 22, 33])"
      ]
     },
     "execution_count": 21,
     "metadata": {},
     "output_type": "execute_result"
    }
   ],
   "source": [
    "np.array([10, 20, 30]) + np.array([1, 2, 3])"
   ]
  },
  {
   "cell_type": "markdown",
   "id": "98cfc36b-2351-4350-be25-1c53f7dd60bb",
   "metadata": {
    "editable": true,
    "slideshow": {
     "slide_type": "fragment"
    },
    "tags": []
   },
   "source": [
    "<br><br>"
   ]
  },
  {
   "cell_type": "markdown",
   "id": "15c77a5f-b7f8-47b8-a6ba-2d142ef6941c",
   "metadata": {
    "editable": true,
    "slideshow": {
     "slide_type": ""
    },
    "tags": []
   },
   "source": [
    "Since all scalar → scalar operators (and scalar → scalar functions in `np.*`) are promoted to elementwise operations on arrays, any [closed form](https://en.wikipedia.org/wiki/Closed-form_expression) expression duck-types between scalars and arrays."
   ]
  },
  {
   "cell_type": "code",
   "execution_count": 22,
   "id": "37ca3db2-667a-41e0-a2d9-40720a080420",
   "metadata": {
    "tags": []
   },
   "outputs": [],
   "source": [
    "def quadratic_formula(a, b, c):\n",
    "    return (-b + np.sqrt(b**2 - 4*a*c)) / (2*a)"
   ]
  },
  {
   "cell_type": "markdown",
   "id": "22be6fdc-29f1-4162-855e-2421eb4b7fa1",
   "metadata": {
    "editable": true,
    "slideshow": {
     "slide_type": "slide"
    },
    "tags": []
   },
   "source": [
    "Compute the quadratic formula on one set of scalar values:"
   ]
  },
  {
   "cell_type": "code",
   "execution_count": 23,
   "id": "524f3b99-3832-479b-a9c8-6d68a8c3bcde",
   "metadata": {
    "tags": []
   },
   "outputs": [
    {
     "data": {
      "text/plain": [
       "np.float64(0.009950493836207741)"
      ]
     },
     "execution_count": 23,
     "metadata": {},
     "output_type": "execute_result"
    }
   ],
   "source": [
    "a = 5\n",
    "b = 10\n",
    "c = -0.1\n",
    "\n",
    "quadratic_formula(a, b, c)"
   ]
  },
  {
   "cell_type": "markdown",
   "id": "e0a83249-e438-4f37-be97-26f12fae9038",
   "metadata": {},
   "source": [
    "<br>\n",
    "\n",
    "Compute the quadratic formula on a million values in arrays:"
   ]
  },
  {
   "cell_type": "code",
   "execution_count": 24,
   "id": "6d1c2cbc-68ba-444b-8482-b272cff21ad5",
   "metadata": {
    "editable": true,
    "slideshow": {
     "slide_type": ""
    },
    "tags": []
   },
   "outputs": [
    {
     "data": {
      "text/plain": [
       "array([ 0.00021561, -0.00460912,  0.00118201, ..., -0.00415271,\n",
       "       -0.00052698, -0.00389951], shape=(1000000,))"
      ]
     },
     "execution_count": 24,
     "metadata": {},
     "output_type": "execute_result"
    }
   ],
   "source": [
    "a = np.random.uniform(5, 10, 1000000)\n",
    "b = np.random.uniform(10, 20, 1000000)\n",
    "c = np.random.uniform(-0.1, 0.1, 1000000)\n",
    "\n",
    "quadratic_formula(a, b, c)"
   ]
  },
  {
   "cell_type": "markdown",
   "id": "768bd0eb-74dd-47d9-b6ec-a84dbb4c7166",
   "metadata": {
    "editable": true,
    "slideshow": {
     "slide_type": "slide"
    },
    "tags": []
   },
   "source": [
    "### Speed and memory use"
   ]
  },
  {
   "cell_type": "markdown",
   "id": "619d4b30-ef24-40af-9da1-120959680d31",
   "metadata": {
    "editable": true,
    "slideshow": {
     "slide_type": ""
    },
    "tags": []
   },
   "source": [
    "<br>"
   ]
  },
  {
   "cell_type": "markdown",
   "id": "0037a70b-2ac8-4db2-b5c2-6be00a19cc1f",
   "metadata": {
    "editable": true,
    "slideshow": {
     "slide_type": ""
    },
    "tags": []
   },
   "source": [
    "Although I'll later show you some techniques that are faster than NumPy, NumPy is already a huge step beyond pure Python."
   ]
  },
  {
   "cell_type": "code",
   "execution_count": 25,
   "id": "1e5ff47b-8221-4dcb-ba06-e81d4c9b192d",
   "metadata": {
    "editable": true,
    "slideshow": {
     "slide_type": ""
    },
    "tags": []
   },
   "outputs": [
    {
     "name": "stdout",
     "output_type": "stream",
     "text": [
      "1.89 s ± 47.6 ms per loop (mean ± std. dev. of 7 runs, 1 loop each)\n"
     ]
    }
   ],
   "source": [
    "%%timeit\n",
    "\n",
    "output = []\n",
    "for a_i, b_i, c_i in zip(a, b, c):\n",
    "    output.append(quadratic_formula(a_i, b_i, c_i))"
   ]
  },
  {
   "cell_type": "markdown",
   "id": "3015d2ed-52a4-49c4-99fc-96bc944aa938",
   "metadata": {
    "editable": true,
    "slideshow": {
     "slide_type": ""
    },
    "tags": []
   },
   "source": [
    "<br>"
   ]
  },
  {
   "cell_type": "code",
   "execution_count": 26,
   "id": "7053da43-c8bf-477f-8484-9dccb5da6e50",
   "metadata": {
    "editable": true,
    "slideshow": {
     "slide_type": ""
    },
    "tags": []
   },
   "outputs": [
    {
     "name": "stdout",
     "output_type": "stream",
     "text": [
      "16.8 ms ± 182 µs per loop (mean ± std. dev. of 7 runs, 100 loops each)\n"
     ]
    }
   ],
   "source": [
    "%%timeit\n",
    "\n",
    "output = quadratic_formula(a, b, c)"
   ]
  },
  {
   "cell_type": "markdown",
   "id": "4caf7cb0-4364-404a-9f41-58bfe997bca8",
   "metadata": {
    "editable": true,
    "slideshow": {
     "slide_type": ""
    },
    "tags": []
   },
   "source": [
    "<br>"
   ]
  },
  {
   "cell_type": "markdown",
   "id": "f60a93b0-965e-4ff8-a5cf-2865b6da632c",
   "metadata": {
    "editable": true,
    "slideshow": {
     "slide_type": "fragment"
    },
    "tags": []
   },
   "source": [
    "Why?"
   ]
  },
  {
   "cell_type": "markdown",
   "id": "0ba468eb-a4bb-4fda-85ae-f0e71c6fc52f",
   "metadata": {
    "editable": true,
    "slideshow": {
     "slide_type": "slide"
    },
    "tags": []
   },
   "source": [
    "There are essentially two kinds of languages, and Python is one of the slow ones."
   ]
  },
  {
   "cell_type": "markdown",
   "id": "c0567fda-5b44-4f67-a53b-9b367168baf4",
   "metadata": {
    "editable": true,
    "slideshow": {
     "slide_type": "fragment"
    },
    "tags": []
   },
   "source": [
    "<br>"
   ]
  },
  {
   "cell_type": "markdown",
   "id": "963b0025-6d31-4b8c-89e1-75cbcb4d4cb9",
   "metadata": {
    "editable": true,
    "slideshow": {
     "slide_type": ""
    },
    "tags": []
   },
   "source": [
    "<center>\n",
    "<img src=\"../img/benchmark-games-2023.svg\" width=\"70%\">\n",
    "</center>"
   ]
  },
  {
   "cell_type": "markdown",
   "id": "eefba039-84bc-438e-ad7d-e07bb80b5744",
   "metadata": {
    "editable": true,
    "slideshow": {
     "slide_type": "slide"
    },
    "tags": []
   },
   "source": [
    "Python (and Ruby, Perl, Lua, PHP...) allow all data types to be dynamic, so that a list or a dict can contain any type of data."
   ]
  },
  {
   "cell_type": "markdown",
   "id": "52583604-25e1-49cb-aab7-85694ca02801",
   "metadata": {
    "editable": true,
    "slideshow": {
     "slide_type": ""
    },
    "tags": []
   },
   "source": [
    "<br><br>"
   ]
  },
  {
   "cell_type": "markdown",
   "id": "28ac2b4f-44a7-4aea-b0ee-d49349f6d8f0",
   "metadata": {
    "editable": true,
    "slideshow": {
     "slide_type": "fragment"
    },
    "tags": []
   },
   "source": [
    "But this means that before each operation, data types need to be checked to see if the operation is possible."
   ]
  },
  {
   "cell_type": "markdown",
   "id": "abef28b6-6c42-4a7b-b651-3071217909cc",
   "metadata": {
    "editable": true,
    "slideshow": {
     "slide_type": ""
    },
    "tags": []
   },
   "source": [
    "<br><br>"
   ]
  },
  {
   "cell_type": "markdown",
   "id": "fccd80e8-08a0-4e9d-977b-3ffdc31222e5",
   "metadata": {
    "editable": true,
    "slideshow": {
     "slide_type": "fragment"
    },
    "tags": []
   },
   "source": [
    "Over and over again, for every step of a loop over a million elements."
   ]
  },
  {
   "cell_type": "markdown",
   "id": "f9497e83-6e3e-452a-b0f5-5da2f73d0da3",
   "metadata": {
    "editable": true,
    "slideshow": {
     "slide_type": "slide"
    },
    "tags": []
   },
   "source": [
    "Memory layout of a Python list.\n",
    "\n",
    "<br>"
   ]
  },
  {
   "cell_type": "markdown",
   "id": "575e8eaf-e3c9-4396-9fca-f474e9ac5177",
   "metadata": {
    "editable": true,
    "slideshow": {
     "slide_type": ""
    },
    "tags": []
   },
   "source": [
    "<center>\n",
    "<img src=\"../img/python-list-layout.svg\" width=\"75%\">\n",
    "</center>"
   ]
  },
  {
   "cell_type": "markdown",
   "id": "d43e2441-1072-4b26-9ca2-00109c90ccdd",
   "metadata": {
    "editable": true,
    "slideshow": {
     "slide_type": "slide"
    },
    "tags": []
   },
   "source": [
    "Memory layout of a NumPy array.\n",
    "\n",
    "<br>"
   ]
  },
  {
   "cell_type": "markdown",
   "id": "17ce3956-530a-4e87-bc94-b38768e7ac0f",
   "metadata": {
    "editable": true,
    "slideshow": {
     "slide_type": ""
    },
    "tags": []
   },
   "source": [
    "<center>\n",
    "<img src=\"../img/python-array-layout.svg\" width=\"75%\">\n",
    "</center>"
   ]
  },
  {
   "cell_type": "markdown",
   "id": "54ba7765-dbf6-47ac-82f5-582ac49ed8e5",
   "metadata": {
    "editable": true,
    "slideshow": {
     "slide_type": "slide"
    },
    "tags": []
   },
   "source": [
    "Dynamic types are usually the main reason why pure Python is slow, but there are others (garbage collector, virtual machine, pointer chasing...)."
   ]
  },
  {
   "cell_type": "markdown",
   "id": "e4345e3b-7cb4-4ce6-bc28-dc031bcb27a3",
   "metadata": {
    "editable": true,
    "slideshow": {
     "slide_type": ""
    },
    "tags": []
   },
   "source": [
    "<br><br><br>"
   ]
  },
  {
   "cell_type": "markdown",
   "id": "dfcfb672-4c13-410a-bd93-476635eb1fa3",
   "metadata": {
    "editable": true,
    "slideshow": {
     "slide_type": "fragment"
    },
    "tags": []
   },
   "source": [
    "Most of these are addressed by a compiled library like NumPy, in which the loops over large datasets are in compiled code."
   ]
  },
  {
   "cell_type": "markdown",
   "id": "1e0ddaab-09aa-4e60-92ad-fa79c04bbf24",
   "metadata": {
    "editable": true,
    "slideshow": {
     "slide_type": "slide"
    },
    "tags": []
   },
   "source": [
    "### Expressibility in NumPy"
   ]
  },
  {
   "cell_type": "markdown",
   "id": "f0c7a270-f662-4d38-89f3-f3baa777730b",
   "metadata": {
    "editable": true,
    "slideshow": {
     "slide_type": ""
    },
    "tags": []
   },
   "source": [
    "Loops over large datasets are in compiled code, but can we still express what we need to compute from the Python side?"
   ]
  },
  {
   "cell_type": "markdown",
   "id": "2ab3c53a-5179-437a-ae5c-32e1739bd4ee",
   "metadata": {
    "editable": true,
    "slideshow": {
     "slide_type": ""
    },
    "tags": []
   },
   "source": [
    "<br>"
   ]
  },
  {
   "cell_type": "markdown",
   "id": "9c7233a9-fb16-413a-a8f3-013c42f784cc",
   "metadata": {
    "editable": true,
    "slideshow": {
     "slide_type": "fragment"
    },
    "tags": []
   },
   "source": [
    "Usually. NumPy has most of the pieces that we need:\n",
    "\n",
    "  * elementwise operations (\"ufuncs\")\n",
    "  * broadcasting\n",
    "  * basic and advanced slicing\n",
    "  * slice-assignment\n",
    "  * reshaping\n",
    "  * reducers\n",
    "  * specialized functions"
   ]
  },
  {
   "cell_type": "markdown",
   "id": "fe30844a-fa0b-44b2-9603-207f32ad2ef1",
   "metadata": {
    "editable": true,
    "slideshow": {
     "slide_type": "slide"
    },
    "tags": []
   },
   "source": [
    "**Example:** Compute the size of the spaces between consecutive elements."
   ]
  },
  {
   "cell_type": "code",
   "execution_count": 30,
   "id": "a629e064-faaf-41a0-bc64-5e666cc3759f",
   "metadata": {
    "editable": true,
    "slideshow": {
     "slide_type": ""
    },
    "tags": []
   },
   "outputs": [
    {
     "data": {
      "text/plain": [
       "9"
      ]
     },
     "execution_count": 30,
     "metadata": {},
     "output_type": "execute_result"
    }
   ],
   "source": [
    "array = np.array([1.1, 2.2, 3.3, 4.4, 5.5, 6.6, 7.7, 8.8, 9.9])\n",
    "len(array)\n"
   ]
  },
  {
   "cell_type": "markdown",
   "id": "49585c91-5746-464e-87a0-1b804f23332b",
   "metadata": {
    "editable": true,
    "slideshow": {
     "slide_type": ""
    },
    "tags": []
   },
   "source": [
    "<br><br><br>"
   ]
  },
  {
   "cell_type": "code",
   "execution_count": 31,
   "id": "63ea4dfe-95b3-4d84-b6f8-fbb63d22fdf6",
   "metadata": {},
   "outputs": [
    {
     "name": "stdout",
     "output_type": "stream",
     "text": [
      "[2.2 3.3 4.4 5.5 6.6 7.7 8.8 9.9]\n",
      "[1.1 2.2 3.3 4.4 5.5 6.6 7.7 8.8]\n",
      "8 8\n"
     ]
    }
   ],
   "source": [
    "print(array[1:])\n",
    "print(array[:-1])\n",
    "print(len(array[1:]) , len(array[:-1]))"
   ]
  },
  {
   "cell_type": "code",
   "execution_count": 28,
   "id": "cc038cc1-0f34-4e07-a780-717befbba313",
   "metadata": {
    "editable": true,
    "slideshow": {
     "slide_type": "fragment"
    },
    "tags": []
   },
   "outputs": [
    {
     "data": {
      "text/plain": [
       "array([1.1, 1.1, 1.1, 1.1, 1.1, 1.1, 1.1, 1.1])"
      ]
     },
     "execution_count": 28,
     "metadata": {},
     "output_type": "execute_result"
    }
   ],
   "source": [
    "array[1:] - array[:-1]"
   ]
  },
  {
   "cell_type": "markdown",
   "id": "25f23f8c-5ef9-4c3e-b543-0d6e2ff7d0f8",
   "metadata": {
    "editable": true,
    "slideshow": {
     "slide_type": "slide"
    },
    "tags": []
   },
   "source": [
    "<center>\n",
    "<img src=\"../img/flat-operation.svg\" width=\"70%\">\n",
    "</center>"
   ]
  },
  {
   "cell_type": "markdown",
   "id": "19edf344-c195-4718-b706-14429d35777f",
   "metadata": {
    "editable": true,
    "slideshow": {
     "slide_type": "slide"
    },
    "tags": []
   },
   "source": [
    "<center>\n",
    "<img src=\"../img/shifted-operation.svg\" width=\"70%\">\n",
    "</center>"
   ]
  },
  {
   "cell_type": "markdown",
   "id": "fb371b34-224b-4105-92e6-591eaaa9fb44",
   "metadata": {
    "editable": true,
    "slideshow": {
     "slide_type": "slide"
    },
    "tags": []
   },
   "source": [
    "**Quizlet:** Compute the length of the curve sampled by arrays `x` and `y`."
   ]
  },
  {
   "cell_type": "code",
   "execution_count": 32,
   "id": "b6f52eff-424d-4c93-9e2b-1c9c49967716",
   "metadata": {
    "editable": true,
    "slideshow": {
     "slide_type": ""
    },
    "tags": []
   },
   "outputs": [],
   "source": [
    "t = np.linspace(0, 2*np.pi, 10000)\n",
    "x = np.sin(3*t)\n",
    "y = np.sin(4*t)"
   ]
  },
  {
   "cell_type": "markdown",
   "id": "50939ff3-7dfb-4604-886a-bcf91a349e1d",
   "metadata": {
    "editable": true,
    "slideshow": {
     "slide_type": ""
    },
    "tags": []
   },
   "source": [
    "<br>\n",
    "\n",
    "<center>\n",
    "<img src=\"../img/length-by-segment.svg\" width=\"55%\">\n",
    "</center>\n",
    "\n",
    "<br>"
   ]
  },
  {
   "cell_type": "code",
   "execution_count": 33,
   "id": "0383cff0-2c2a-465d-907a-ac050d50f879",
   "metadata": {
    "editable": true,
    "slideshow": {
     "slide_type": ""
    },
    "tags": []
   },
   "outputs": [],
   "source": [
    "import matplotlib.pyplot as plt"
   ]
  },
  {
   "cell_type": "code",
   "execution_count": 34,
   "id": "a5667ab6-f1c5-4ae8-b883-59bfebc68538",
   "metadata": {
    "editable": true,
    "slideshow": {
     "slide_type": "slide"
    },
    "tags": []
   },
   "outputs": [
    {
     "data": {
      "image/png": "[encoded data removed]",
      "text/plain": [
       "<Figure size 640x480 with 1 Axes>"
      ]
     },
     "metadata": {},
     "output_type": "display_data"
    }
   ],
   "source": [
    "plt.plot(x, y);"
   ]
  },
  {
   "cell_type": "markdown",
   "id": "8033dc5d-a36c-4843-bc48-326315bad15a",
   "metadata": {
    "editable": true,
    "slideshow": {
     "slide_type": "slide"
    },
    "tags": []
   },
   "source": [
    "**Answer:**"
   ]
  },
  {
   "cell_type": "code",
   "execution_count": 35,
   "id": "63e141e2-0b2b-4b0c-bb01-04d5e74ed708",
   "metadata": {
    "editable": true,
    "slideshow": {
     "slide_type": ""
    },
    "tags": []
   },
   "outputs": [
    {
     "data": {
      "text/plain": [
       "np.float64(21.237210568991465)"
      ]
     },
     "execution_count": 35,
     "metadata": {},
     "output_type": "execute_result"
    }
   ],
   "source": [
    "np.sum(np.sqrt((x[1:] - x[:-1])**2 + (y[1:] - y[:-1])**2))"
   ]
  },
  {
   "cell_type": "markdown",
   "id": "75293a71-34c5-4e8a-ac7f-27040d30a535",
   "metadata": {
    "editable": true,
    "slideshow": {
     "slide_type": "slide"
    },
    "tags": []
   },
   "source": [
    "### Slicing"
   ]
  },
  {
   "cell_type": "markdown",
   "id": "bc1aa8dc-c7f5-4e5c-bfb2-663b0b6cdc21",
   "metadata": {
    "editable": true,
    "slideshow": {
     "slide_type": ""
    },
    "tags": []
   },
   "source": [
    "Python has a very concise slicing syntax:\n",
    "\n",
    "```python\n",
    "container[start:stop:step]\n",
    "```\n",
    "\n",
    "any one of which can be left out, to get a default. Negative values count backward, from the end."
   ]
  },
  {
   "cell_type": "code",
   "execution_count": 36,
   "id": "8d44fcaf-2173-437f-b6b9-580846e3a98f",
   "metadata": {
    "editable": true,
    "slideshow": {
     "slide_type": ""
    },
    "tags": []
   },
   "outputs": [],
   "source": [
    "container = [0.0, 1.1, 2.2, 3.3, 4.4, 5.5, 6.6, 7.7, 8.8, 9.9]"
   ]
  },
  {
   "cell_type": "code",
   "execution_count": 44,
   "id": "8d205663-a293-4cb6-85a5-fba3ca69f7ab",
   "metadata": {
    "editable": true,
    "slideshow": {
     "slide_type": ""
    },
    "tags": []
   },
   "outputs": [
    {
     "data": {
      "text/plain": [
       "[7.7, 6.6, 5.5, 4.4, 3.3]"
      ]
     },
     "execution_count": 44,
     "metadata": {},
     "output_type": "execute_result"
    }
   ],
   "source": [
    "container[7:2:-1]"
   ]
  },
  {
   "cell_type": "markdown",
   "id": "5a61e16d-8ee1-43d7-be40-c81d6b17c06b",
   "metadata": {
    "editable": true,
    "slideshow": {
     "slide_type": ""
    },
    "tags": []
   },
   "source": [
    "<br>"
   ]
  },
  {
   "cell_type": "code",
   "execution_count": 45,
   "id": "3ac9ea57-2b0c-4333-9ff2-285e748146ed",
   "metadata": {
    "editable": true,
    "slideshow": {
     "slide_type": ""
    },
    "tags": []
   },
   "outputs": [
    {
     "data": {
      "text/plain": [
       "[0.0, 1.1, 2.2, 3.3, 4.4]"
      ]
     },
     "execution_count": 45,
     "metadata": {},
     "output_type": "execute_result"
    }
   ],
   "source": [
    "container[:5]"
   ]
  },
  {
   "cell_type": "markdown",
   "id": "6644f28c-26a4-437c-940e-69838060c783",
   "metadata": {
    "editable": true,
    "slideshow": {
     "slide_type": ""
    },
    "tags": []
   },
   "source": [
    "<br>"
   ]
  },
  {
   "cell_type": "code",
   "execution_count": 46,
   "id": "a7a24fb5-436e-45b7-a7b9-1f2a57ad63f7",
   "metadata": {
    "editable": true,
    "slideshow": {
     "slide_type": ""
    },
    "tags": []
   },
   "outputs": [
    {
     "data": {
      "text/plain": [
       "[4.4, 5.5, 6.6, 7.7]"
      ]
     },
     "execution_count": 46,
     "metadata": {},
     "output_type": "execute_result"
    }
   ],
   "source": [
    "container[-6:-2]"
   ]
  },
  {
   "cell_type": "markdown",
   "id": "4eea88f1-1065-4163-961b-6fa3297840db",
   "metadata": {
    "editable": true,
    "slideshow": {
     "slide_type": ""
    },
    "tags": []
   },
   "source": [
    "<br>"
   ]
  },
  {
   "cell_type": "code",
   "execution_count": 48,
   "id": "105e6b71-797f-47bc-8f06-2152e8bb2094",
   "metadata": {
    "editable": true,
    "slideshow": {
     "slide_type": ""
    },
    "tags": []
   },
   "outputs": [
    {
     "data": {
      "text/plain": [
       "[4.4, 6.6, 8.8]"
      ]
     },
     "execution_count": 48,
     "metadata": {},
     "output_type": "execute_result"
    }
   ],
   "source": [
    "container[4:10:2]"
   ]
  },
  {
   "cell_type": "markdown",
   "id": "d6bc0127-f666-478f-99ef-06d026516996",
   "metadata": {
    "editable": true,
    "slideshow": {
     "slide_type": ""
    },
    "tags": []
   },
   "source": [
    "<br>"
   ]
  },
  {
   "cell_type": "code",
   "execution_count": 49,
   "id": "cc369bb4-753d-4e74-a91a-c85d63c02279",
   "metadata": {
    "editable": true,
    "slideshow": {
     "slide_type": ""
    },
    "tags": []
   },
   "outputs": [
    {
     "data": {
      "text/plain": [
       "[0.0, 3.3, 6.6, 9.9]"
      ]
     },
     "execution_count": 49,
     "metadata": {},
     "output_type": "execute_result"
    }
   ],
   "source": [
    "container[::3]"
   ]
  },
  {
   "cell_type": "markdown",
   "id": "4e0b5803-1208-4e41-b756-b3ef55094fb4",
   "metadata": {
    "editable": true,
    "slideshow": {
     "slide_type": "slide"
    },
    "tags": []
   },
   "source": [
    "NumPy goes beyond ordinary slicing by allowing slices in multiple dimensions."
   ]
  },
  {
   "cell_type": "markdown",
   "id": "8d2b3eb1-1f77-4c88-a35d-c08e6dabbe96",
   "metadata": {
    "editable": true,
    "slideshow": {
     "slide_type": ""
    },
    "tags": []
   },
   "source": [
    "<center>\n",
    "<img src=\"../img/numpy-slicing.png\" width=\"25%\">\n",
    "</center>"
   ]
  },
  {
   "cell_type": "code",
   "execution_count": 50,
   "id": "4de33a84-4640-4b2b-92bf-051c08238aa2",
   "metadata": {
    "editable": true,
    "slideshow": {
     "slide_type": "slide"
    },
    "tags": []
   },
   "outputs": [
    {
     "data": {
      "text/plain": [
       "array([[1.1, 2.2, 3.3],\n",
       "       [4.4, 5.5, 6.6],\n",
       "       [7.7, 8.8, 9.9]])"
      ]
     },
     "execution_count": 50,
     "metadata": {},
     "output_type": "execute_result"
    }
   ],
   "source": [
    "arr = np.array([[1.1, 2.2, 3.3],\n",
    "                [4.4, 5.5, 6.6],\n",
    "                [7.7, 8.8, 9.9]])\n",
    "arr"
   ]
  },
  {
   "cell_type": "code",
   "execution_count": 51,
   "id": "d23fa80f-02b1-4349-a533-0789b84173ae",
   "metadata": {
    "editable": true,
    "slideshow": {
     "slide_type": ""
    },
    "tags": []
   },
   "outputs": [
    {
     "data": {
      "text/plain": [
       "array([[2.2, 3.3],\n",
       "       [5.5, 6.6]])"
      ]
     },
     "execution_count": 51,
     "metadata": {},
     "output_type": "execute_result"
    }
   ],
   "source": [
    "arr[:2, 1:]"
   ]
  },
  {
   "cell_type": "markdown",
   "id": "0559b466-53ba-412c-b9e0-571b421b7113",
   "metadata": {
    "editable": true,
    "slideshow": {
     "slide_type": ""
    },
    "tags": []
   },
   "source": [
    "<br>"
   ]
  },
  {
   "cell_type": "code",
   "execution_count": 52,
   "id": "d95e3920-5b36-4124-beac-181f6390d341",
   "metadata": {
    "editable": true,
    "slideshow": {
     "slide_type": ""
    },
    "tags": []
   },
   "outputs": [
    {
     "data": {
      "text/plain": [
       "array([[7.7, 8.8, 9.9]])"
      ]
     },
     "execution_count": 52,
     "metadata": {},
     "output_type": "execute_result"
    }
   ],
   "source": [
    "arr[2:, :]"
   ]
  },
  {
   "cell_type": "markdown",
   "id": "e0074837-5c08-4408-84cf-dfd56a1a5753",
   "metadata": {
    "editable": true,
    "slideshow": {
     "slide_type": ""
    },
    "tags": []
   },
   "source": [
    "<br>"
   ]
  },
  {
   "cell_type": "code",
   "execution_count": 53,
   "id": "1852fbdb-e0f0-45b9-9771-7f33ef58b2fc",
   "metadata": {
    "editable": true,
    "slideshow": {
     "slide_type": ""
    },
    "tags": []
   },
   "outputs": [
    {
     "data": {
      "text/plain": [
       "array([[1.1, 2.2],\n",
       "       [4.4, 5.5],\n",
       "       [7.7, 8.8]])"
      ]
     },
     "execution_count": 53,
     "metadata": {},
     "output_type": "execute_result"
    }
   ],
   "source": [
    "arr[:, :2]"
   ]
  },
  {
   "cell_type": "markdown",
   "id": "ad3a60df-a47f-40f4-b93b-37ff8d7bcd0c",
   "metadata": {
    "editable": true,
    "slideshow": {
     "slide_type": ""
    },
    "tags": []
   },
   "source": [
    "<br>"
   ]
  },
  {
   "cell_type": "code",
   "execution_count": 54,
   "id": "04464f35-5b36-4e97-b502-0e708dd3e900",
   "metadata": {
    "editable": true,
    "slideshow": {
     "slide_type": ""
    },
    "tags": []
   },
   "outputs": [
    {
     "data": {
      "text/plain": [
       "array([[4.4, 5.5]])"
      ]
     },
     "execution_count": 54,
     "metadata": {},
     "output_type": "execute_result"
    }
   ],
   "source": [
    "arr[1:2, :2]"
   ]
  },
  {
   "cell_type": "markdown",
   "id": "15bc649f-87c9-4991-bbbb-5c8a93a643b4",
   "metadata": {
    "editable": true,
    "slideshow": {
     "slide_type": "slide"
    },
    "tags": []
   },
   "source": [
    "<center>\n",
    "<img src=\"../img/numpy-memory-layout.png\" width=\"75%\">\n",
    "</center>"
   ]
  },
  {
   "cell_type": "markdown",
   "id": "32ff0f2b-a74a-43df-a78f-fdea208fa134",
   "metadata": {
    "editable": true,
    "slideshow": {
     "slide_type": "slide"
    },
    "tags": []
   },
   "source": [
    "<center>\n",
    "<img src=\"../img/numpy-memory-reshape.png\" width=\"75%\">\n",
    "</center>"
   ]
  },
  {
   "cell_type": "markdown",
   "id": "5524f35a-ab53-41ee-9e7c-bccb1c8eab7e",
   "metadata": {
    "editable": true,
    "slideshow": {
     "slide_type": "slide"
    },
    "tags": []
   },
   "source": [
    "<center>\n",
    "<img src=\"../img/numpy-memory-slice.png\" width=\"75%\">\n",
    "</center>"
   ]
  },
  {
   "cell_type": "markdown",
   "id": "592687b0-4577-4049-8464-ea7adb79bd02",
   "metadata": {
    "editable": true,
    "slideshow": {
     "slide_type": "slide"
    },
    "tags": []
   },
   "source": [
    "**Quizlet:** Slice `three_dimensional` such that it looks like\n",
    "\n",
    "```python\n",
    "[[ 4  9]\n",
    " [24 29]]\n",
    "```"
   ]
  },
  {
   "cell_type": "code",
   "execution_count": 55,
   "id": "6169b56f-2499-4bd9-bb6d-b1a9781700a9",
   "metadata": {
    "editable": true,
    "slideshow": {
     "slide_type": ""
    },
    "tags": []
   },
   "outputs": [
    {
     "data": {
      "text/plain": [
       "array([[[ 0,  1,  2,  3,  4],\n",
       "        [ 5,  6,  7,  8,  9]],\n",
       "\n",
       "       [[10, 11, 12, 13, 14],\n",
       "        [15, 16, 17, 18, 19]],\n",
       "\n",
       "       [[20, 21, 22, 23, 24],\n",
       "        [25, 26, 27, 28, 29]]])"
      ]
     },
     "execution_count": 55,
     "metadata": {},
     "output_type": "execute_result"
    }
   ],
   "source": [
    "three_dimensional = np.arange(30).reshape((3, 2, 5))\n",
    "three_dimensional"
   ]
  },
  {
   "cell_type": "markdown",
   "id": "181c2bb0-52cb-4f5f-9b76-c6f8d0cd0933",
   "metadata": {
    "editable": true,
    "slideshow": {
     "slide_type": ""
    },
    "tags": []
   },
   "source": [
    "<br>"
   ]
  },
  {
   "cell_type": "code",
   "execution_count": 56,
   "id": "8cd1cf94-fa07-4a66-b00b-f5dcd04f7283",
   "metadata": {
    "editable": true,
    "slideshow": {
     "slide_type": ""
    },
    "tags": []
   },
   "outputs": [
    {
     "data": {
      "text/plain": [
       "array([[[ 0,  1,  2,  3,  4],\n",
       "        [ 5,  6,  7,  8,  9]],\n",
       "\n",
       "       [[10, 11, 12, 13, 14],\n",
       "        [15, 16, 17, 18, 19]],\n",
       "\n",
       "       [[20, 21, 22, 23, 24],\n",
       "        [25, 26, 27, 28, 29]]])"
      ]
     },
     "execution_count": 56,
     "metadata": {},
     "output_type": "execute_result"
    }
   ],
   "source": [
    "three_dimensional[ : : ]"
   ]
  },
  {
   "cell_type": "markdown",
   "id": "6050e065-e6cb-4f53-95e9-0206e953c7e3",
   "metadata": {
    "editable": true,
    "slideshow": {
     "slide_type": "slide"
    },
    "tags": []
   },
   "source": [
    "### Advanced slicing"
   ]
  },
  {
   "cell_type": "markdown",
   "id": "a5491ed9-cb2c-4e73-a504-a0df5beea2cd",
   "metadata": {
    "editable": true,
    "slideshow": {
     "slide_type": ""
    },
    "tags": []
   },
   "source": [
    "Not only that, but NumPy can slice arrays with arrays."
   ]
  },
  {
   "cell_type": "code",
   "execution_count": 58,
   "id": "99bea524-5ffd-450b-86bc-5d441fbf4c42",
   "metadata": {
    "editable": true,
    "slideshow": {
     "slide_type": ""
    },
    "tags": []
   },
   "outputs": [],
   "source": [
    "arr  = np.array([  0.0,   1.1,   2.2,   3.3,   4.4,  5.5,   6.6,  7.7,   8.8,  9.9])\n",
    "mask = np.array([False, False, False, False, False, True, False, True, False, True])\n",
    "#                                                    5.5          7.7          9.9"
   ]
  },
  {
   "cell_type": "markdown",
   "id": "4cf47615-f550-4092-8210-ac236dc31d1e",
   "metadata": {
    "editable": true,
    "slideshow": {
     "slide_type": ""
    },
    "tags": []
   },
   "source": [
    "<br>"
   ]
  },
  {
   "cell_type": "code",
   "execution_count": 59,
   "id": "63f19921-6eeb-45b7-8a8c-eeb2df129441",
   "metadata": {
    "editable": true,
    "slideshow": {
     "slide_type": ""
    },
    "tags": []
   },
   "outputs": [
    {
     "data": {
      "text/plain": [
       "array([5.5, 7.7, 9.9])"
      ]
     },
     "execution_count": 59,
     "metadata": {},
     "output_type": "execute_result"
    }
   ],
   "source": [
    "arr[mask]"
   ]
  },
  {
   "cell_type": "markdown",
   "id": "028bb00b-dba8-4fb0-9ed2-eb374175445a",
   "metadata": {
    "editable": true,
    "slideshow": {
     "slide_type": "fragment"
    },
    "tags": []
   },
   "source": [
    "<br>\n",
    "\n",
    "An array of integers picks out elements by index."
   ]
  },
  {
   "cell_type": "code",
   "execution_count": 61,
   "id": "0a04ebee-2cea-4209-8996-8ae0da42e584",
   "metadata": {},
   "outputs": [
    {
     "data": {
      "text/plain": [
       "array([ 5,  7, -1])"
      ]
     },
     "execution_count": 61,
     "metadata": {},
     "output_type": "execute_result"
    }
   ],
   "source": [
    "np.array([3,5,7,-1])"
   ]
  },
  {
   "cell_type": "code",
   "execution_count": 62,
   "id": "8fc0b6d2-2508-47ea-950c-e8d67d8845c6",
   "metadata": {
    "editable": true,
    "slideshow": {
     "slide_type": ""
    },
    "tags": []
   },
   "outputs": [
    {
     "data": {
      "text/plain": [
       "array([3.3, 5.5, 7.7, 9.9])"
      ]
     },
     "execution_count": 62,
     "metadata": {},
     "output_type": "execute_result"
    }
   ],
   "source": [
    "arr[np.array([3,5, 7, -1])]"
   ]
  },
  {
   "cell_type": "markdown",
   "id": "ba6a9da4-e781-4069-85a9-797b81b83b7e",
   "metadata": {
    "editable": true,
    "slideshow": {
     "slide_type": "fragment"
    },
    "tags": []
   },
   "source": [
    "<br>\n",
    "\n",
    "They can be out of order."
   ]
  },
  {
   "cell_type": "code",
   "execution_count": 65,
   "id": "e50e9d7c-b10a-42c5-b1e8-5a0194abcc2d",
   "metadata": {
    "editable": true,
    "slideshow": {
     "slide_type": ""
    },
    "tags": []
   },
   "outputs": [
    {
     "data": {
      "text/plain": [
       "array([9.9, 7.7, 5.5, 9.9])"
      ]
     },
     "execution_count": 65,
     "metadata": {},
     "output_type": "execute_result"
    }
   ],
   "source": [
    "arr[np.array([-1, 7, 5,-1])]"
   ]
  },
  {
   "cell_type": "markdown",
   "id": "ce5c93c4-83c9-4945-b82c-72cd1df5f2fa",
   "metadata": {
    "editable": true,
    "slideshow": {
     "slide_type": "fragment"
    },
    "tags": []
   },
   "source": [
    "<br>\n",
    "\n",
    "They can even include duplicates."
   ]
  },
  {
   "cell_type": "code",
   "execution_count": 66,
   "id": "ac4f02d8-aefd-44bd-b213-e0022059772c",
   "metadata": {
    "editable": true,
    "slideshow": {
     "slide_type": ""
    },
    "tags": []
   },
   "outputs": [
    {
     "data": {
      "text/plain": [
       "array([9.9, 9.9, 9.9, 7.7, 7.7, 5.5])"
      ]
     },
     "execution_count": 66,
     "metadata": {},
     "output_type": "execute_result"
    }
   ],
   "source": [
    "arr[np.array([-1, -1, -1, 7, 7, 5])]"
   ]
  },
  {
   "cell_type": "code",
   "execution_count": 68,
   "id": "89306a21-5814-436a-bec1-824f1199ea68",
   "metadata": {
    "editable": true,
    "slideshow": {
     "slide_type": "slide"
    },
    "tags": []
   },
   "outputs": [],
   "source": [
    "text = \"\"\"\n",
    "WOULD YOU LIKE GREEN EGGS AND HAM?\n",
    "\n",
    "I DO NOT LIKE THEM, SAM-I-AM.\n",
    "I DO NOT LIKE GREEN EGGS AND HAM.\n",
    "\n",
    "WOULD YOU LIKE THEM HERE OR THERE?\n",
    "\n",
    "I WOULD NOT LIKE THEM HERE OR THERE.\n",
    "I WOULD NOT LIKE THEM ANYWHERE.\n",
    "I DO NOT LIKE GREEN EGGS AND HAM.\n",
    "I DO NOT LIKE THEM, SAM-I-AM.\n",
    "\n",
    "WOULD YOU LIKE THEM IN A HOUSE?\n",
    "WOULD YOU LIKE THEN WITH A MOUSE?\n",
    "\n",
    "I DO NOT LIKE THEM IN A HOUSE.\n",
    "I DO NOT LIKE THEM WITH A MOUSE.\n",
    "I DO NOT LIKE THEM HERE OR THERE.\n",
    "I DO NOT LIKE THEM ANYWHERE.\n",
    "I DO NOT LIKE GREEN EGGS AND HAM.\n",
    "I DO NOT LIKE THEM, SAM-I-AM.\n",
    "\n",
    "WOULD YOU EAT THEM IN A BOX?\n",
    "WOULD YOU EAT THEM WITH A FOX?\n",
    "\n",
    "NOT IN A BOX. NOT WITH A FOX.\n",
    "NOT IN A HOUSE. NOT WITH A MOUSE.\n",
    "I WOULD NOT EAT THEM HERE OR THERE.\n",
    "I WOULD NOT EAT THEM ANYWHERE.\n",
    "I WOULD NOT EAT GREEN EGGS AND HAM.\n",
    "I DO NOT LIKE THEM, SAM-I-AM.\n",
    "\"\"\""
   ]
  },
  {
   "cell_type": "code",
   "execution_count": 69,
   "id": "fc8a5607-1879-47cb-a027-3b1892c48153",
   "metadata": {
    "editable": true,
    "slideshow": {
     "slide_type": "slide"
    },
    "tags": []
   },
   "outputs": [],
   "source": [
    "words = np.array(text.replace(\",\", \" \").replace(\".\", \" \").replace(\"?\", \" \").replace(\"!\", \" \").replace(\"-\", \" \").split())\n",
    "dictionary, index = np.unique(words, return_inverse=True)"
   ]
  },
  {
   "cell_type": "markdown",
   "id": "8d018016-5de6-4912-b2b6-ac9cb60b15bd",
   "metadata": {
    "editable": true,
    "slideshow": {
     "slide_type": ""
    },
    "tags": []
   },
   "source": [
    "<br>"
   ]
  },
  {
   "cell_type": "code",
   "execution_count": 72,
   "id": "c5d4ccaa-5dd6-4b82-a598-940d923905f3",
   "metadata": {},
   "outputs": [
    {
     "name": "stdout",
     "output_type": "stream",
     "text": [
      "['WOULD' 'YOU' 'LIKE' 'GREEN' 'EGGS' 'AND' 'HAM' 'I' 'DO' 'NOT' 'LIKE'\n",
      " 'THEM' 'SAM' 'I' 'AM' 'I' 'DO' 'NOT' 'LIKE' 'GREEN' 'EGGS' 'AND' 'HAM'\n",
      " 'WOULD' 'YOU' 'LIKE' 'THEM' 'HERE' 'OR' 'THERE' 'I' 'WOULD' 'NOT' 'LIKE'\n",
      " 'THEM' 'HERE' 'OR' 'THERE' 'I' 'WOULD' 'NOT' 'LIKE' 'THEM' 'ANYWHERE' 'I'\n",
      " 'DO' 'NOT' 'LIKE' 'GREEN' 'EGGS' 'AND' 'HAM' 'I' 'DO' 'NOT' 'LIKE' 'THEM'\n",
      " 'SAM' 'I' 'AM' 'WOULD' 'YOU' 'LIKE' 'THEM' 'IN' 'A' 'HOUSE' 'WOULD' 'YOU'\n",
      " 'LIKE' 'THEN' 'WITH' 'A' 'MOUSE' 'I' 'DO' 'NOT' 'LIKE' 'THEM' 'IN' 'A'\n",
      " 'HOUSE' 'I' 'DO' 'NOT' 'LIKE' 'THEM' 'WITH' 'A' 'MOUSE' 'I' 'DO' 'NOT'\n",
      " 'LIKE' 'THEM' 'HERE' 'OR' 'THERE' 'I' 'DO' 'NOT' 'LIKE' 'THEM' 'ANYWHERE'\n",
      " 'I' 'DO' 'NOT' 'LIKE' 'GREEN' 'EGGS' 'AND' 'HAM' 'I' 'DO' 'NOT' 'LIKE'\n",
      " 'THEM' 'SAM' 'I' 'AM' 'WOULD' 'YOU' 'EAT' 'THEM' 'IN' 'A' 'BOX' 'WOULD'\n",
      " 'YOU' 'EAT' 'THEM' 'WITH' 'A' 'FOX' 'NOT' 'IN' 'A' 'BOX' 'NOT' 'WITH' 'A'\n",
      " 'FOX' 'NOT' 'IN' 'A' 'HOUSE' 'NOT' 'WITH' 'A' 'MOUSE' 'I' 'WOULD' 'NOT'\n",
      " 'EAT' 'THEM' 'HERE' 'OR' 'THERE' 'I' 'WOULD' 'NOT' 'EAT' 'THEM'\n",
      " 'ANYWHERE' 'I' 'WOULD' 'NOT' 'EAT' 'GREEN' 'EGGS' 'AND' 'HAM' 'I' 'DO'\n",
      " 'NOT' 'LIKE' 'THEM' 'SAM' 'I' 'AM']\n"
     ]
    }
   ],
   "source": [
    "print(words)"
   ]
  },
  {
   "cell_type": "code",
   "execution_count": 70,
   "id": "8155c52e-687f-4b33-a428-da954a463b16",
   "metadata": {
    "editable": true,
    "slideshow": {
     "slide_type": ""
    },
    "tags": []
   },
   "outputs": [
    {
     "data": {
      "text/plain": [
       "array(['A', 'AM', 'AND', 'ANYWHERE', 'BOX', 'DO', 'EAT', 'EGGS', 'FOX',\n",
       "       'GREEN', 'HAM', 'HERE', 'HOUSE', 'I', 'IN', 'LIKE', 'MOUSE', 'NOT',\n",
       "       'OR', 'SAM', 'THEM', 'THEN', 'THERE', 'WITH', 'WOULD', 'YOU'],\n",
       "      dtype='<U8')"
      ]
     },
     "execution_count": 70,
     "metadata": {},
     "output_type": "execute_result"
    }
   ],
   "source": [
    "dictionary"
   ]
  },
  {
   "cell_type": "markdown",
   "id": "c0ebd51d-3746-4a2a-8265-9099131b27fc",
   "metadata": {
    "editable": true,
    "slideshow": {
     "slide_type": ""
    },
    "tags": []
   },
   "source": [
    "<br>"
   ]
  },
  {
   "cell_type": "code",
   "execution_count": 71,
   "id": "108f79c8-cd02-448f-a329-9e70246a0dd7",
   "metadata": {
    "editable": true,
    "slideshow": {
     "slide_type": ""
    },
    "tags": []
   },
   "outputs": [
    {
     "data": {
      "text/plain": [
       "array([24, 25, 15,  9,  7,  2, 10, 13,  5, 17, 15, 20, 19, 13,  1, 13,  5,\n",
       "       17, 15,  9,  7,  2, 10, 24, 25, 15, 20, 11, 18, 22, 13, 24, 17, 15,\n",
       "       20, 11, 18, 22, 13, 24, 17, 15, 20,  3, 13,  5, 17, 15,  9,  7,  2,\n",
       "       10, 13,  5, 17, 15, 20, 19, 13,  1, 24, 25, 15, 20, 14,  0, 12, 24,\n",
       "       25, 15, 21, 23,  0, 16, 13,  5, 17, 15, 20, 14,  0, 12, 13,  5, 17,\n",
       "       15, 20, 23,  0, 16, 13,  5, 17, 15, 20, 11, 18, 22, 13,  5, 17, 15,\n",
       "       20,  3, 13,  5, 17, 15,  9,  7,  2, 10, 13,  5, 17, 15, 20, 19, 13,\n",
       "        1, 24, 25,  6, 20, 14,  0,  4, 24, 25,  6, 20, 23,  0,  8, 17, 14,\n",
       "        0,  4, 17, 23,  0,  8, 17, 14,  0, 12, 17, 23,  0, 16, 13, 24, 17,\n",
       "        6, 20, 11, 18, 22, 13, 24, 17,  6, 20,  3, 13, 24, 17,  6,  9,  7,\n",
       "        2, 10, 13,  5, 17, 15, 20, 19, 13,  1])"
      ]
     },
     "execution_count": 71,
     "metadata": {},
     "output_type": "execute_result"
    }
   ],
   "source": [
    "index"
   ]
  },
  {
   "cell_type": "markdown",
   "id": "a7f9976b-a61a-44e1-9853-253a9be83899",
   "metadata": {
    "editable": true,
    "slideshow": {
     "slide_type": "slide"
    },
    "tags": []
   },
   "source": [
    "**Quizlet:** What's going to happen?"
   ]
  },
  {
   "cell_type": "markdown",
   "id": "45092a2f-00bb-492e-bbbe-d93df5acff6a",
   "metadata": {
    "editable": true,
    "slideshow": {
     "slide_type": ""
    },
    "tags": []
   },
   "source": [
    "<br>"
   ]
  },
  {
   "cell_type": "code",
   "execution_count": 73,
   "id": "783e832e-7216-49d5-a04a-53e391263d0e",
   "metadata": {
    "editable": true,
    "slideshow": {
     "slide_type": ""
    },
    "tags": []
   },
   "outputs": [
    {
     "data": {
      "text/plain": [
       "array(['WOULD', 'YOU', 'LIKE', 'GREEN', 'EGGS', 'AND', 'HAM', 'I', 'DO',\n",
       "       'NOT', 'LIKE', 'THEM', 'SAM', 'I', 'AM', 'I', 'DO', 'NOT', 'LIKE',\n",
       "       'GREEN', 'EGGS', 'AND', 'HAM', 'WOULD', 'YOU', 'LIKE', 'THEM',\n",
       "       'HERE', 'OR', 'THERE', 'I', 'WOULD', 'NOT', 'LIKE', 'THEM', 'HERE',\n",
       "       'OR', 'THERE', 'I', 'WOULD', 'NOT', 'LIKE', 'THEM', 'ANYWHERE',\n",
       "       'I', 'DO', 'NOT', 'LIKE', 'GREEN', 'EGGS', 'AND', 'HAM', 'I', 'DO',\n",
       "       'NOT', 'LIKE', 'THEM', 'SAM', 'I', 'AM', 'WOULD', 'YOU', 'LIKE',\n",
       "       'THEM', 'IN', 'A', 'HOUSE', 'WOULD', 'YOU', 'LIKE', 'THEN', 'WITH',\n",
       "       'A', 'MOUSE', 'I', 'DO', 'NOT', 'LIKE', 'THEM', 'IN', 'A', 'HOUSE',\n",
       "       'I', 'DO', 'NOT', 'LIKE', 'THEM', 'WITH', 'A', 'MOUSE', 'I', 'DO',\n",
       "       'NOT', 'LIKE', 'THEM', 'HERE', 'OR', 'THERE', 'I', 'DO', 'NOT',\n",
       "       'LIKE', 'THEM', 'ANYWHERE', 'I', 'DO', 'NOT', 'LIKE', 'GREEN',\n",
       "       'EGGS', 'AND', 'HAM', 'I', 'DO', 'NOT', 'LIKE', 'THEM', 'SAM', 'I',\n",
       "       'AM', 'WOULD', 'YOU', 'EAT', 'THEM', 'IN', 'A', 'BOX', 'WOULD',\n",
       "       'YOU', 'EAT', 'THEM', 'WITH', 'A', 'FOX', 'NOT', 'IN', 'A', 'BOX',\n",
       "       'NOT', 'WITH', 'A', 'FOX', 'NOT', 'IN', 'A', 'HOUSE', 'NOT',\n",
       "       'WITH', 'A', 'MOUSE', 'I', 'WOULD', 'NOT', 'EAT', 'THEM', 'HERE',\n",
       "       'OR', 'THERE', 'I', 'WOULD', 'NOT', 'EAT', 'THEM', 'ANYWHERE', 'I',\n",
       "       'WOULD', 'NOT', 'EAT', 'GREEN', 'EGGS', 'AND', 'HAM', 'I', 'DO',\n",
       "       'NOT', 'LIKE', 'THEM', 'SAM', 'I', 'AM'], dtype='<U8')"
      ]
     },
     "execution_count": 73,
     "metadata": {},
     "output_type": "execute_result"
    }
   ],
   "source": [
    "dictionary[index]"
   ]
  },
  {
   "cell_type": "markdown",
   "id": "25bbcb49-6faa-4a2c-9b78-3a47fae28cce",
   "metadata": {
    "editable": true,
    "slideshow": {
     "slide_type": ""
    },
    "tags": []
   },
   "source": [
    "<br>\n",
    "\n",
    "<details>\n",
    "    <summary><b>Hint...</b></summary>\n",
    "\n",
    "<br>\n",
    "\n",
    "```\n",
    "index             : positions in corpus (0, 1, 2, ...) → integer codes\n",
    "dictionary        : integer codes                      → words\n",
    "\n",
    "dictionary[index] : positions in corpus (0, 1, 2, ...) → words\n",
    "```\n",
    "\n",
    "</details>"
   ]
  },
  {
   "cell_type": "markdown",
   "id": "bfbdf2b3-e982-4b72-9046-cfe551828760",
   "metadata": {
    "editable": true,
    "slideshow": {
     "slide_type": "slide"
    },
    "tags": []
   },
   "source": [
    "### Reductions"
   ]
  },
  {
   "attachments": {},
   "cell_type": "markdown",
   "id": "8caf5b0d-330a-4582-b429-4fb89d03bbb5",
   "metadata": {
    "editable": true,
    "slideshow": {
     "slide_type": ""
    },
    "tags": []
   },
   "source": [
    "We've seen operations that apply to each element of an array, producing a new array of the same length (\"map\").\n",
    "\n",
    "NumPy also has operations that turn $n$-dimensional arrays into $(n-1)$-dimensional arrays (\"reduce\")."
   ]
  },
  {
   "cell_type": "markdown",
   "id": "755ff407-48b6-4bbb-b400-ab28ca175eaf",
   "metadata": {
    "editable": true,
    "slideshow": {
     "slide_type": ""
    },
    "tags": []
   },
   "source": [
    "<center>\n",
    "<img src=\"../img/example-reducer-2d.svg\" width=\"50%\">\n",
    "</center>"
   ]
  },
  {
   "cell_type": "code",
   "execution_count": 77,
   "id": "5474920c-c378-4602-848d-162aa1341fae",
   "metadata": {
    "editable": true,
    "slideshow": {
     "slide_type": "slide"
    },
    "tags": []
   },
   "outputs": [],
   "source": [
    "arr = np.array([[  1,   2,   3,   4],\n",
    "                [ 10,  20,  30,  44],\n",
    "                [100, 200, 300, 400]])"
   ]
  },
  {
   "cell_type": "markdown",
   "id": "2e363413-dce4-4969-b251-331e3d9de91a",
   "metadata": {
    "@deathbeds/jupyterlab-fonts": {
     "styles": {
      "": {
       "body[data-jp-deck-mode='presenting'] &": {
        "height": null,
        "left": null,
        "position": null,
        "top": null,
        "width": null
       }
      }
     }
    },
    "editable": true,
    "slideshow": {
     "slide_type": ""
    },
    "tags": []
   },
   "source": [
    "<br>"
   ]
  },
  {
   "cell_type": "code",
   "execution_count": 78,
   "id": "a97d2d7a-e06b-4f06-a48b-9178572decf3",
   "metadata": {
    "@deathbeds/jupyterlab-fonts": {
     "styles": {
      "": {
       "body[data-jp-deck-mode='presenting'] &": {
        "height": null,
        "left": null,
        "position": null,
        "top": null,
        "width": null
       }
      }
     }
    },
    "editable": true,
    "slideshow": {
     "slide_type": ""
    },
    "tags": []
   },
   "outputs": [
    {
     "data": {
      "text/plain": [
       "array([111, 222, 333, 448])"
      ]
     },
     "execution_count": 78,
     "metadata": {},
     "output_type": "execute_result"
    }
   ],
   "source": [
    "np.sum(arr, axis=0)"
   ]
  },
  {
   "cell_type": "markdown",
   "id": "3292f598-e857-4d41-a2da-cb6f5ca0f85c",
   "metadata": {
    "@deathbeds/jupyterlab-fonts": {
     "styles": {
      "": {
       "body[data-jp-deck-mode='presenting'] &": {
        "height": null,
        "left": null,
        "position": null,
        "top": null,
        "width": null
       }
      }
     }
    },
    "editable": true,
    "slideshow": {
     "slide_type": ""
    },
    "tags": []
   },
   "source": [
    "<br>"
   ]
  },
  {
   "cell_type": "code",
   "execution_count": 79,
   "id": "3f2f62e3-ae8f-4273-8b39-a8e691f43a45",
   "metadata": {
    "editable": true,
    "slideshow": {
     "slide_type": ""
    },
    "tags": []
   },
   "outputs": [
    {
     "data": {
      "text/plain": [
       "array([  10,  104, 1000])"
      ]
     },
     "execution_count": 79,
     "metadata": {},
     "output_type": "execute_result"
    }
   ],
   "source": [
    "np.sum(arr, axis=1)"
   ]
  },
  {
   "cell_type": "markdown",
   "id": "a5f171a0-8256-487b-a45f-f572c2a6e12a",
   "metadata": {
    "editable": true,
    "slideshow": {
     "slide_type": "slide"
    },
    "tags": []
   },
   "source": [
    "**Example:** Downsample this curve to make it less noisy."
   ]
  },
  {
   "cell_type": "markdown",
   "id": "0dba6d8f-ad8d-48ec-af85-e96dcf475caf",
   "metadata": {
    "editable": true,
    "slideshow": {
     "slide_type": ""
    },
    "tags": []
   },
   "source": [
    "<br>"
   ]
  },
  {
   "cell_type": "code",
   "execution_count": 80,
   "id": "e1f87a97-d2ff-4814-9306-d4fb0ba7a09c",
   "metadata": {
    "editable": true,
    "slideshow": {
     "slide_type": ""
    },
    "tags": []
   },
   "outputs": [],
   "source": [
    "noisy_data = np.sin(np.linspace(0, 2*np.pi, 1000)) + np.random.normal(0, 0.5, 1000)"
   ]
  },
  {
   "cell_type": "markdown",
   "id": "2a637dbe-92ff-4158-93bc-5788b78f4430",
   "metadata": {
    "editable": true,
    "slideshow": {
     "slide_type": ""
    },
    "tags": []
   },
   "source": [
    "<br>"
   ]
  },
  {
   "cell_type": "code",
   "execution_count": null,
   "id": "36c89c1d-e863-4369-8e73-8b478d0a35bf",
   "metadata": {
    "editable": true,
    "slideshow": {
     "slide_type": ""
    },
    "tags": []
   },
   "outputs": [],
   "source": [
    "plt.plot(noisy_data);"
   ]
  },
  {
   "cell_type": "markdown",
   "id": "47c31ae0-cdd2-4a58-be7d-4f93ed369e0c",
   "metadata": {
    "editable": true,
    "slideshow": {
     "slide_type": "slide"
    },
    "tags": []
   },
   "source": [
    "That is, replace every 10 consecutive array elements with their average value, reducing the number of array elements from 1000 to 100, but representing the same curve (ranging from ‒1 to 1)."
   ]
  },
  {
   "cell_type": "markdown",
   "id": "f0764762-5480-4a83-a3c3-16bef972cd0e",
   "metadata": {
    "editable": true,
    "slideshow": {
     "slide_type": ""
    },
    "tags": []
   },
   "source": [
    "<br>"
   ]
  },
  {
   "cell_type": "code",
   "execution_count": null,
   "id": "69388f79-0cb4-455f-860e-6e99e7d0a236",
   "metadata": {
    "editable": true,
    "slideshow": {
     "slide_type": "fragment"
    },
    "tags": []
   },
   "outputs": [],
   "source": [
    "plt.plot(np.sum(noisy_data.reshape(-1, 10), axis=1));"
   ]
  }
 ],
 "metadata": {
  "kernelspec": {
   "display_name": "Python 3 (ipykernel)",
   "language": "python",
   "name": "python3"
  },
  "language_info": {
   "codemirror_mode": {
    "name": "ipython",
    "version": 3
   },
   "file_extension": ".py",
   "mimetype": "text/x-python",
   "name": "python",
   "nbconvert_exporter": "python",
   "pygments_lexer": "ipython3",
   "version": "3.10.18"
  }
 },
 "nbformat": 4,
 "nbformat_minor": 5
}
